{
 "cells": [
  {
   "cell_type": "code",
   "execution_count": 1,
   "id": "eedb20cb",
   "metadata": {},
   "outputs": [],
   "source": [
    "%matplotlib inline"
   ]
  },
  {
   "cell_type": "code",
   "execution_count": 2,
   "id": "e866eaac",
   "metadata": {},
   "outputs": [],
   "source": [
    "from mplsoccer import Radar, FontManager\n",
    "import matplotlib.pyplot as plt"
   ]
  },
  {
   "cell_type": "code",
   "execution_count": 3,
   "id": "f7c03201",
   "metadata": {},
   "outputs": [],
   "source": [
    "import pandas as pd\n",
    "import requests\n",
    "from bs4 import BeautifulSoup as soup\n",
    "import json\n",
    "import numpy as np\n",
    "import matplotlib as mpl"
   ]
  },
  {
   "cell_type": "code",
   "execution_count": 4,
   "id": "e64beb49",
   "metadata": {},
   "outputs": [],
   "source": [
    "pd.options.display.float_format = '{:,.2f}'.format"
   ]
  },
  {
   "cell_type": "code",
   "execution_count": 5,
   "id": "62dd6f44",
   "metadata": {},
   "outputs": [],
   "source": [
    "player_id1=\"c691bfe2\""
   ]
  },
  {
   "cell_type": "code",
   "execution_count": 6,
   "id": "ce34cd0a",
   "metadata": {},
   "outputs": [],
   "source": [
    "player_id2=\"4f16405e\""
   ]
  },
  {
   "cell_type": "code",
   "execution_count": 7,
   "id": "b4b44d64",
   "metadata": {},
   "outputs": [],
   "source": [
    "torneo_id=\"2022-2023\""
   ]
  },
  {
   "cell_type": "code",
   "execution_count": 8,
   "id": "fac397e1",
   "metadata": {},
   "outputs": [],
   "source": [
    "url=f\"https://fbref.com/en/stathead/player_comparison.cgi?request=1&sum=1&comp_type=by_type&dom_lg=1&spec_comps=big_5&player_id1={player_id1}&p1yrfrom={torneo_id}&player_id2={player_id2}&p2yrfrom={torneo_id}\""
   ]
  },
  {
   "cell_type": "code",
   "execution_count": 9,
   "id": "9520b2cc",
   "metadata": {},
   "outputs": [],
   "source": [
    "html = requests.get(url)"
   ]
  },
  {
   "cell_type": "code",
   "execution_count": 10,
   "id": "20f03967",
   "metadata": {
    "scrolled": false
   },
   "outputs": [],
   "source": [
    "#html.content"
   ]
  },
  {
   "cell_type": "code",
   "execution_count": 11,
   "id": "eb66fad0",
   "metadata": {},
   "outputs": [],
   "source": [
    "parse_soup = soup(html.content,'lxml')"
   ]
  },
  {
   "cell_type": "code",
   "execution_count": 12,
   "id": "07622215",
   "metadata": {},
   "outputs": [],
   "source": [
    "#scripts = parse_soup.find_all('script')\n",
    "#len(scripts)"
   ]
  },
  {
   "cell_type": "code",
   "execution_count": 13,
   "id": "fc2c124d",
   "metadata": {},
   "outputs": [
    {
     "data": {
      "text/plain": [
       "27"
      ]
     },
     "execution_count": 13,
     "metadata": {},
     "output_type": "execute_result"
    }
   ],
   "source": [
    "ths=parse_soup.find_all('th', {\"class\":\"left\"})\n",
    "len(ths)"
   ]
  },
  {
   "cell_type": "code",
   "execution_count": 14,
   "id": "d5f68465",
   "metadata": {},
   "outputs": [
    {
     "data": {
      "text/plain": [
       "'Niclas Füllkrug'"
      ]
     },
     "execution_count": 14,
     "metadata": {},
     "output_type": "execute_result"
    }
   ],
   "source": [
    "ths[5].string"
   ]
  },
  {
   "cell_type": "code",
   "execution_count": 15,
   "id": "df7d7872",
   "metadata": {},
   "outputs": [
    {
     "data": {
      "text/plain": [
       "'Sadio Mané'"
      ]
     },
     "execution_count": 15,
     "metadata": {},
     "output_type": "execute_result"
    }
   ],
   "source": [
    "player1=ths[1].string\n",
    "player2=ths[2].string\n",
    "player1"
   ]
  },
  {
   "cell_type": "code",
   "execution_count": 16,
   "id": "901fe718",
   "metadata": {},
   "outputs": [
    {
     "data": {
      "text/plain": [
       "36"
      ]
     },
     "execution_count": 16,
     "metadata": {},
     "output_type": "execute_result"
    }
   ],
   "source": [
    "squads=parse_soup.find_all('td', {\"class\": \"left\"})\n",
    "len(squads)"
   ]
  },
  {
   "cell_type": "code",
   "execution_count": 17,
   "id": "9ce042fe",
   "metadata": {},
   "outputs": [
    {
     "data": {
      "text/plain": [
       "'Bayern Munich'"
      ]
     },
     "execution_count": 17,
     "metadata": {},
     "output_type": "execute_result"
    }
   ],
   "source": [
    "team1=squads[1].string\n",
    "team1"
   ]
  },
  {
   "cell_type": "code",
   "execution_count": 18,
   "id": "0d494e08",
   "metadata": {},
   "outputs": [
    {
     "data": {
      "text/plain": [
       "'Werder Bremen'"
      ]
     },
     "execution_count": 18,
     "metadata": {},
     "output_type": "execute_result"
    }
   ],
   "source": [
    "team2=squads[3].string\n",
    "team2"
   ]
  },
  {
   "cell_type": "code",
   "execution_count": 19,
   "id": "5f1728e6",
   "metadata": {},
   "outputs": [
    {
     "data": {
      "text/plain": [
       "'Niclas Füllkrug'"
      ]
     },
     "execution_count": 19,
     "metadata": {},
     "output_type": "execute_result"
    }
   ],
   "source": [
    "player2"
   ]
  },
  {
   "cell_type": "code",
   "execution_count": 20,
   "id": "6d69b631",
   "metadata": {
    "scrolled": false
   },
   "outputs": [],
   "source": [
    "catsmain=parse_soup.find_all(\"th\", {\"class\": \"poptip center\"})\n",
    "#len(catsmain)"
   ]
  },
  {
   "cell_type": "code",
   "execution_count": 21,
   "id": "67e5c5f7",
   "metadata": {},
   "outputs": [],
   "source": [
    "#catsmain[0].string"
   ]
  },
  {
   "cell_type": "code",
   "execution_count": 22,
   "id": "030cf5ad",
   "metadata": {},
   "outputs": [],
   "source": [
    "catsrest=parse_soup.find_all(\"th\", {\"class\": \"poptip center group_start\"})\n",
    "#len(catsrest)"
   ]
  },
  {
   "cell_type": "code",
   "execution_count": 23,
   "id": "67b47c4e",
   "metadata": {
    "scrolled": true
   },
   "outputs": [],
   "source": [
    "#catsrest[0].string"
   ]
  },
  {
   "cell_type": "code",
   "execution_count": 24,
   "id": "cb8fcd8c",
   "metadata": {},
   "outputs": [],
   "source": [
    "catsrest2=parse_soup.find_all(\"th\", {\"class\": \"poptip hide_non_quals center\"})\n",
    "#len(catsrest2)"
   ]
  },
  {
   "cell_type": "code",
   "execution_count": 25,
   "id": "5130ecd0",
   "metadata": {
    "scrolled": false
   },
   "outputs": [],
   "source": [
    "#catsrest2[0].string"
   ]
  },
  {
   "cell_type": "code",
   "execution_count": 26,
   "id": "e2d581e4",
   "metadata": {
    "scrolled": true
   },
   "outputs": [],
   "source": [
    "catsrest3=parse_soup.find_all(\"th\", {\"class\": \"poptip hide_non_quals center group_start\"})\n",
    "#len(catsrest3)"
   ]
  },
  {
   "cell_type": "code",
   "execution_count": 27,
   "id": "f9ca6864",
   "metadata": {},
   "outputs": [],
   "source": [
    "#catsrest3[2].string"
   ]
  },
  {
   "cell_type": "code",
   "execution_count": 28,
   "id": "0977f1a7",
   "metadata": {
    "scrolled": true
   },
   "outputs": [
    {
     "data": {
      "text/plain": [
       "233"
      ]
     },
     "execution_count": 28,
     "metadata": {},
     "output_type": "execute_result"
    }
   ],
   "source": [
    "catsall=catsmain+catsrest2+catsrest3+catsrest\n",
    "len(catsall)"
   ]
  },
  {
   "cell_type": "code",
   "execution_count": 29,
   "id": "dbf9d8c0",
   "metadata": {},
   "outputs": [],
   "source": [
    "#catsall[0].string"
   ]
  },
  {
   "cell_type": "code",
   "execution_count": 30,
   "id": "5991b46f",
   "metadata": {},
   "outputs": [],
   "source": [
    "cats=[]"
   ]
  },
  {
   "cell_type": "code",
   "execution_count": 31,
   "id": "1598338a",
   "metadata": {},
   "outputs": [],
   "source": [
    "for cat in catsall:\n",
    "    cat=cat.string\n",
    "    cats.append(cat)"
   ]
  },
  {
   "cell_type": "code",
   "execution_count": 32,
   "id": "4fb64300",
   "metadata": {
    "scrolled": false
   },
   "outputs": [],
   "source": [
    "#toremove=['Span', ]\n",
    "#cats.remove('Span')"
   ]
  },
  {
   "cell_type": "code",
   "execution_count": 33,
   "id": "4edbe4d1",
   "metadata": {},
   "outputs": [],
   "source": [
    "#cats"
   ]
  },
  {
   "cell_type": "code",
   "execution_count": 34,
   "id": "3d544b9b",
   "metadata": {
    "scrolled": false
   },
   "outputs": [],
   "source": [
    "valsmain=parse_soup.find_all(\"td\", {\"class\": \"right group_start\"})\n",
    "#len(valsmain)"
   ]
  },
  {
   "cell_type": "code",
   "execution_count": 35,
   "id": "d3fe3f1e",
   "metadata": {},
   "outputs": [],
   "source": [
    "#valsmain[5].string"
   ]
  },
  {
   "cell_type": "code",
   "execution_count": 36,
   "id": "9f94c36b",
   "metadata": {},
   "outputs": [],
   "source": [
    "valsrest=parse_soup.find_all(\"td\", {\"class\": \"right\"})\n",
    "#len(valsrest)"
   ]
  },
  {
   "cell_type": "code",
   "execution_count": 37,
   "id": "89f0f79b",
   "metadata": {
    "scrolled": true
   },
   "outputs": [],
   "source": [
    "#valsrest[409].string"
   ]
  },
  {
   "cell_type": "code",
   "execution_count": 38,
   "id": "220b9842",
   "metadata": {
    "scrolled": true
   },
   "outputs": [],
   "source": [
    "#len(valsrest)"
   ]
  },
  {
   "cell_type": "code",
   "execution_count": 39,
   "id": "5b06ec30",
   "metadata": {},
   "outputs": [],
   "source": [
    "#valsrest"
   ]
  },
  {
   "cell_type": "code",
   "execution_count": 40,
   "id": "b8f8b0e0",
   "metadata": {},
   "outputs": [],
   "source": [
    "vals=[]"
   ]
  },
  {
   "cell_type": "code",
   "execution_count": 41,
   "id": "97ff2b99",
   "metadata": {},
   "outputs": [],
   "source": [
    "for val in valsrest:\n",
    "    val=str(val.string)\n",
    "    vals.append(val)"
   ]
  },
  {
   "cell_type": "code",
   "execution_count": 42,
   "id": "1364b094",
   "metadata": {
    "scrolled": false
   },
   "outputs": [
    {
     "data": {
      "text/plain": [
       "412"
      ]
     },
     "execution_count": 42,
     "metadata": {},
     "output_type": "execute_result"
    }
   ],
   "source": [
    "len(vals)"
   ]
  },
  {
   "cell_type": "code",
   "execution_count": 43,
   "id": "33c70f78",
   "metadata": {},
   "outputs": [],
   "source": [
    "#vals"
   ]
  },
  {
   "cell_type": "code",
   "execution_count": 44,
   "id": "54022d12",
   "metadata": {},
   "outputs": [
    {
     "data": {
      "text/plain": [
       "0.0"
      ]
     },
     "execution_count": 44,
     "metadata": {},
     "output_type": "execute_result"
    }
   ],
   "source": [
    "assist90P1=float(vals[106])/float(vals[4])\n",
    "\n",
    "assist90P1"
   ]
  },
  {
   "cell_type": "code",
   "execution_count": 45,
   "id": "d4ccd1da",
   "metadata": {},
   "outputs": [
    {
     "data": {
      "text/plain": [
       "0.20202020202020202"
      ]
     },
     "execution_count": 45,
     "metadata": {},
     "output_type": "execute_result"
    }
   ],
   "source": [
    "assist90P2=float(vals[130])/float(vals[30])\n",
    "assist90P2"
   ]
  },
  {
   "cell_type": "code",
   "execution_count": 46,
   "id": "a35d528c",
   "metadata": {},
   "outputs": [
    {
     "data": {
      "text/plain": [
       "10.714285714285714"
      ]
     },
     "execution_count": 46,
     "metadata": {},
     "output_type": "execute_result"
    }
   ],
   "source": [
    "pressures90P1=float(vals[239])/float(vals[4])\n",
    "pressures90P1"
   ]
  },
  {
   "cell_type": "code",
   "execution_count": 47,
   "id": "847c7290",
   "metadata": {
    "scrolled": true
   },
   "outputs": [
    {
     "data": {
      "text/plain": [
       "7.575757575757575"
      ]
     },
     "execution_count": 47,
     "metadata": {},
     "output_type": "execute_result"
    }
   ],
   "source": [
    "#CHECAR IMPRECISO\n",
    "pressures90P2=float(vals[264])/float(vals[30])\n",
    "pressures90P2"
   ]
  },
  {
   "cell_type": "code",
   "execution_count": 48,
   "id": "921e3f02",
   "metadata": {},
   "outputs": [
    {
     "data": {
      "text/plain": [
       "1.2857142857142858"
      ]
     },
     "execution_count": 48,
     "metadata": {},
     "output_type": "execute_result"
    }
   ],
   "source": [
    "off90P1=float(vals[383])/float(vals[4])\n",
    "off90P1"
   ]
  },
  {
   "cell_type": "code",
   "execution_count": 49,
   "id": "255553a8",
   "metadata": {},
   "outputs": [
    {
     "data": {
      "text/plain": [
       "1.0101010101010102"
      ]
     },
     "execution_count": 49,
     "metadata": {},
     "output_type": "execute_result"
    }
   ],
   "source": [
    "off90P2=float(vals[401])/float(vals[395])\n",
    "off90P2"
   ]
  },
  {
   "cell_type": "code",
   "execution_count": 50,
   "id": "cff4e462",
   "metadata": {},
   "outputs": [],
   "source": [
    "#vals.index('15.3')"
   ]
  },
  {
   "cell_type": "code",
   "execution_count": 51,
   "id": "852f5273",
   "metadata": {
    "scrolled": false
   },
   "outputs": [],
   "source": [
    "#vals[4]"
   ]
  },
  {
   "cell_type": "code",
   "execution_count": 52,
   "id": "516947df",
   "metadata": {},
   "outputs": [
    {
     "data": {
      "text/plain": [
       "3.7142857142857144"
      ]
     },
     "execution_count": 52,
     "metadata": {},
     "output_type": "execute_result"
    }
   ],
   "source": [
    "presssucc90P1=float(vals[240])/float(vals[4])\n",
    "presssucc90P1"
   ]
  },
  {
   "cell_type": "code",
   "execution_count": 53,
   "id": "e6836e7b",
   "metadata": {},
   "outputs": [
    {
     "data": {
      "text/plain": [
       "1.5151515151515151"
      ]
     },
     "execution_count": 53,
     "metadata": {},
     "output_type": "execute_result"
    }
   ],
   "source": [
    "presssucc90P2=float(vals[265])/float(vals[30])\n",
    "presssucc90P2"
   ]
  },
  {
   "cell_type": "code",
   "execution_count": 54,
   "id": "08e4bab5",
   "metadata": {},
   "outputs": [
    {
     "data": {
      "text/plain": [
       "1.8571428571428572"
      ]
     },
     "execution_count": 54,
     "metadata": {},
     "output_type": "execute_result"
    }
   ],
   "source": [
    "dribblesucc90P1=float(vals[287])/float(vals[4])\n",
    "dribblesucc90P1"
   ]
  },
  {
   "cell_type": "code",
   "execution_count": 55,
   "id": "3dd6b35b",
   "metadata": {},
   "outputs": [
    {
     "data": {
      "text/plain": [
       "0.7070707070707071"
      ]
     },
     "execution_count": 55,
     "metadata": {},
     "output_type": "execute_result"
    }
   ],
   "source": [
    "dribblesucc90P2=float(vals[313])/float(vals[30])\n",
    "dribblesucc90P2"
   ]
  },
  {
   "cell_type": "code",
   "execution_count": 56,
   "id": "f76bd1da",
   "metadata": {},
   "outputs": [
    {
     "data": {
      "text/plain": [
       "1.2857142857142858"
      ]
     },
     "execution_count": 56,
     "metadata": {},
     "output_type": "execute_result"
    }
   ],
   "source": [
    "aerialswon90P1=float(vals[391])/float(vals[4])\n",
    "aerialswon90P1"
   ]
  },
  {
   "cell_type": "code",
   "execution_count": 57,
   "id": "e866dfe2",
   "metadata": {},
   "outputs": [
    {
     "data": {
      "text/plain": [
       "4.545454545454545"
      ]
     },
     "execution_count": 57,
     "metadata": {},
     "output_type": "execute_result"
    }
   ],
   "source": [
    "aerialswon90P2=float(vals[409])/float(vals[30])\n",
    "aerialswon90P2"
   ]
  },
  {
   "cell_type": "code",
   "execution_count": 58,
   "id": "6ad93754",
   "metadata": {},
   "outputs": [
    {
     "data": {
      "text/plain": [
       "'3.43'"
      ]
     },
     "execution_count": 58,
     "metadata": {},
     "output_type": "execute_result"
    }
   ],
   "source": [
    "shots90P1=vals[58]\n",
    "shots90P1"
   ]
  },
  {
   "cell_type": "code",
   "execution_count": 59,
   "id": "8ee5d98a",
   "metadata": {},
   "outputs": [
    {
     "data": {
      "text/plain": [
       "'3.04'"
      ]
     },
     "execution_count": 59,
     "metadata": {},
     "output_type": "execute_result"
    }
   ],
   "source": [
    "shots90P2=vals[77]\n",
    "shots90P2"
   ]
  },
  {
   "cell_type": "code",
   "execution_count": 60,
   "id": "0b4be538",
   "metadata": {},
   "outputs": [
    {
     "data": {
      "text/plain": [
       "'1.86'"
      ]
     },
     "execution_count": 60,
     "metadata": {},
     "output_type": "execute_result"
    }
   ],
   "source": [
    "shotsOT90P1=vals[59]\n",
    "shotsOT90P1"
   ]
  },
  {
   "cell_type": "code",
   "execution_count": 61,
   "id": "52a71e5f",
   "metadata": {},
   "outputs": [
    {
     "data": {
      "text/plain": [
       "'1.01'"
      ]
     },
     "execution_count": 61,
     "metadata": {},
     "output_type": "execute_result"
    }
   ],
   "source": [
    "shotsOT90P2=vals[78]\n",
    "shotsOT90P2"
   ]
  },
  {
   "cell_type": "code",
   "execution_count": 62,
   "id": "06e1fbdc",
   "metadata": {},
   "outputs": [
    {
     "data": {
      "text/plain": [
       "0.5714285714285714"
      ]
     },
     "execution_count": 62,
     "metadata": {},
     "output_type": "execute_result"
    }
   ],
   "source": [
    "Goals90P1=float(vals[5])/float(vals[4])\n",
    "Goals90P1"
   ]
  },
  {
   "cell_type": "code",
   "execution_count": 63,
   "id": "456142f6",
   "metadata": {
    "scrolled": true
   },
   "outputs": [
    {
     "data": {
      "text/plain": [
       "0.8080808080808081"
      ]
     },
     "execution_count": 63,
     "metadata": {},
     "output_type": "execute_result"
    }
   ],
   "source": [
    "Goals90P2=float(vals[31])/float(vals[30])\n",
    "Goals90P2"
   ]
  },
  {
   "cell_type": "code",
   "execution_count": 64,
   "id": "9b4378e7",
   "metadata": {},
   "outputs": [
    {
     "data": {
      "text/plain": [
       "0.6"
      ]
     },
     "execution_count": 64,
     "metadata": {},
     "output_type": "execute_result"
    }
   ],
   "source": [
    "xGoals90P1=float(vals[17])/float(vals[4])\n",
    "xGoals90P1"
   ]
  },
  {
   "cell_type": "code",
   "execution_count": 65,
   "id": "ac7b6b22",
   "metadata": {},
   "outputs": [
    {
     "data": {
      "text/plain": [
       "0.6161616161616161"
      ]
     },
     "execution_count": 65,
     "metadata": {},
     "output_type": "execute_result"
    }
   ],
   "source": [
    "xGoals90P2=float(vals[43])/float(vals[30])\n",
    "xGoals90P2"
   ]
  },
  {
   "cell_type": "code",
   "execution_count": 66,
   "id": "e7377479",
   "metadata": {},
   "outputs": [],
   "source": [
    "#vals=pd.DataFrame(vals).reset_index()"
   ]
  },
  {
   "cell_type": "code",
   "execution_count": 67,
   "id": "7c2aa3fb",
   "metadata": {
    "scrolled": true
   },
   "outputs": [],
   "source": [
    "#vals[0][85]"
   ]
  },
  {
   "cell_type": "code",
   "execution_count": 68,
   "id": "956d76c7",
   "metadata": {},
   "outputs": [],
   "source": [
    "#len(vals[0])"
   ]
  },
  {
   "cell_type": "code",
   "execution_count": 69,
   "id": "812037f8",
   "metadata": {
    "scrolled": false
   },
   "outputs": [
    {
     "data": {
      "text/html": [
       "<div>\n",
       "<style scoped>\n",
       "    .dataframe tbody tr th:only-of-type {\n",
       "        vertical-align: middle;\n",
       "    }\n",
       "\n",
       "    .dataframe tbody tr th {\n",
       "        vertical-align: top;\n",
       "    }\n",
       "\n",
       "    .dataframe thead th {\n",
       "        text-align: right;\n",
       "    }\n",
       "</style>\n",
       "<table border=\"1\" class=\"dataframe\">\n",
       "  <thead>\n",
       "    <tr style=\"text-align: right;\">\n",
       "      <th></th>\n",
       "      <th>Player</th>\n",
       "      <th>PJ</th>\n",
       "      <th>Goals/90</th>\n",
       "      <th>xG/90</th>\n",
       "      <th>Shots/90</th>\n",
       "      <th>SoT/90</th>\n",
       "      <th>Assists/90</th>\n",
       "      <th>Pressures/90</th>\n",
       "      <th>Offsides/90</th>\n",
       "      <th>Aerials won/90</th>\n",
       "      <th>Dribbles Success/90</th>\n",
       "      <th>Pressure Success/90</th>\n",
       "    </tr>\n",
       "  </thead>\n",
       "  <tbody>\n",
       "    <tr>\n",
       "      <th>0</th>\n",
       "      <td>Robert Lewandowski</td>\n",
       "      <td>127</td>\n",
       "      <td>1.07</td>\n",
       "      <td>0.97</td>\n",
       "      <td>4.52</td>\n",
       "      <td>1.95</td>\n",
       "      <td>0.17</td>\n",
       "      <td>11.70</td>\n",
       "      <td>0.11</td>\n",
       "      <td>1.82</td>\n",
       "      <td>1.42</td>\n",
       "      <td>3.81</td>\n",
       "    </tr>\n",
       "    <tr>\n",
       "      <th>1</th>\n",
       "      <td>Erling Haaland</td>\n",
       "      <td>83</td>\n",
       "      <td>1.10</td>\n",
       "      <td>0.83</td>\n",
       "      <td>3.55</td>\n",
       "      <td>1.76</td>\n",
       "      <td>0.28</td>\n",
       "      <td>12.20</td>\n",
       "      <td>0.17</td>\n",
       "      <td>1.81</td>\n",
       "      <td>0.85</td>\n",
       "      <td>3.88</td>\n",
       "    </tr>\n",
       "  </tbody>\n",
       "</table>\n",
       "</div>"
      ],
      "text/plain": [
       "               Player   PJ  Goals/90  xG/90  Shots/90  SoT/90  Assists/90  \\\n",
       "0  Robert Lewandowski  127      1.07   0.97      4.52    1.95        0.17   \n",
       "1      Erling Haaland   83      1.10   0.83      3.55    1.76        0.28   \n",
       "\n",
       "   Pressures/90  Offsides/90  Aerials won/90  Dribbles Success/90  \\\n",
       "0         11.70         0.11            1.82                 1.42   \n",
       "1         12.20         0.17            1.81                 0.85   \n",
       "\n",
       "   Pressure Success/90  \n",
       "0                 3.81  \n",
       "1                 3.88  "
      ]
     },
     "execution_count": 69,
     "metadata": {},
     "output_type": "execute_result"
    }
   ],
   "source": [
    "pdf=pd.read_excel(\"RLEHRadar.xlsx\")\n",
    "pdf"
   ]
  },
  {
   "cell_type": "code",
   "execution_count": 70,
   "id": "f13b4221",
   "metadata": {},
   "outputs": [],
   "source": [
    "pdf.drop('PJ', inplace=True, axis=1)"
   ]
  },
  {
   "cell_type": "code",
   "execution_count": 71,
   "id": "0540e164",
   "metadata": {},
   "outputs": [],
   "source": [
    "#df.rename(columns={\"Unnamed: 0\": \"Player\", \"SoT\": \"Shots on Target\"}, inplace=True)\n",
    "#df"
   ]
  },
  {
   "cell_type": "code",
   "execution_count": 72,
   "id": "decb23a2",
   "metadata": {},
   "outputs": [],
   "source": [
    "df=pd.DataFrame(columns=pdf.columns)"
   ]
  },
  {
   "cell_type": "code",
   "execution_count": 73,
   "id": "00228db8",
   "metadata": {},
   "outputs": [],
   "source": [
    "#aerialswon90P2"
   ]
  },
  {
   "cell_type": "code",
   "execution_count": 74,
   "id": "4b2a36f9",
   "metadata": {},
   "outputs": [
    {
     "data": {
      "text/html": [
       "<div>\n",
       "<style scoped>\n",
       "    .dataframe tbody tr th:only-of-type {\n",
       "        vertical-align: middle;\n",
       "    }\n",
       "\n",
       "    .dataframe tbody tr th {\n",
       "        vertical-align: top;\n",
       "    }\n",
       "\n",
       "    .dataframe thead th {\n",
       "        text-align: right;\n",
       "    }\n",
       "</style>\n",
       "<table border=\"1\" class=\"dataframe\">\n",
       "  <thead>\n",
       "    <tr style=\"text-align: right;\">\n",
       "      <th></th>\n",
       "      <th>Player</th>\n",
       "      <th>Goals/90</th>\n",
       "      <th>xG/90</th>\n",
       "      <th>Shots/90</th>\n",
       "      <th>SoT/90</th>\n",
       "      <th>Assists/90</th>\n",
       "      <th>Pressures/90</th>\n",
       "      <th>Offsides/90</th>\n",
       "      <th>Aerials won/90</th>\n",
       "      <th>Dribbles Success/90</th>\n",
       "      <th>Pressure Success/90</th>\n",
       "    </tr>\n",
       "  </thead>\n",
       "  <tbody>\n",
       "  </tbody>\n",
       "</table>\n",
       "</div>"
      ],
      "text/plain": [
       "Empty DataFrame\n",
       "Columns: [Player, Goals/90, xG/90, Shots/90, SoT/90, Assists/90, Pressures/90, Offsides/90, Aerials won/90, Dribbles Success/90, Pressure Success/90]\n",
       "Index: []"
      ]
     },
     "execution_count": 74,
     "metadata": {},
     "output_type": "execute_result"
    }
   ],
   "source": [
    "df"
   ]
  },
  {
   "cell_type": "code",
   "execution_count": 75,
   "id": "f6c8a33c",
   "metadata": {},
   "outputs": [
    {
     "data": {
      "text/html": [
       "<div>\n",
       "<style scoped>\n",
       "    .dataframe tbody tr th:only-of-type {\n",
       "        vertical-align: middle;\n",
       "    }\n",
       "\n",
       "    .dataframe tbody tr th {\n",
       "        vertical-align: top;\n",
       "    }\n",
       "\n",
       "    .dataframe thead th {\n",
       "        text-align: right;\n",
       "    }\n",
       "</style>\n",
       "<table border=\"1\" class=\"dataframe\">\n",
       "  <thead>\n",
       "    <tr style=\"text-align: right;\">\n",
       "      <th></th>\n",
       "      <th>Player</th>\n",
       "      <th>Goals/90</th>\n",
       "      <th>xG/90</th>\n",
       "      <th>Shots/90</th>\n",
       "      <th>SoT/90</th>\n",
       "      <th>Assists/90</th>\n",
       "      <th>Pressures/90</th>\n",
       "      <th>Offsides/90</th>\n",
       "      <th>Aerials won/90</th>\n",
       "      <th>Dribbles Success/90</th>\n",
       "      <th>Pressure Success/90</th>\n",
       "    </tr>\n",
       "  </thead>\n",
       "  <tbody>\n",
       "    <tr>\n",
       "      <th>0</th>\n",
       "      <td>Sadio Mané</td>\n",
       "      <td>0.57</td>\n",
       "      <td>0.60</td>\n",
       "      <td>3.43</td>\n",
       "      <td>1.86</td>\n",
       "      <td>0.00</td>\n",
       "      <td>10.71</td>\n",
       "      <td>1.29</td>\n",
       "      <td>1.29</td>\n",
       "      <td>1.86</td>\n",
       "      <td>3.71</td>\n",
       "    </tr>\n",
       "    <tr>\n",
       "      <th>1</th>\n",
       "      <td>Niclas Füllkrug</td>\n",
       "      <td>0.81</td>\n",
       "      <td>0.62</td>\n",
       "      <td>3.04</td>\n",
       "      <td>1.01</td>\n",
       "      <td>0.20</td>\n",
       "      <td>7.58</td>\n",
       "      <td>1.01</td>\n",
       "      <td>4.55</td>\n",
       "      <td>0.71</td>\n",
       "      <td>1.52</td>\n",
       "    </tr>\n",
       "  </tbody>\n",
       "</table>\n",
       "</div>"
      ],
      "text/plain": [
       "            Player  Goals/90  xG/90  Shots/90  SoT/90  Assists/90  \\\n",
       "0       Sadio Mané      0.57   0.60      3.43    1.86        0.00   \n",
       "1  Niclas Füllkrug      0.81   0.62      3.04    1.01        0.20   \n",
       "\n",
       "   Pressures/90  Offsides/90  Aerials won/90  Dribbles Success/90  \\\n",
       "0         10.71         1.29            1.29                 1.86   \n",
       "1          7.58         1.01            4.55                 0.71   \n",
       "\n",
       "   Pressure Success/90  \n",
       "0                 3.71  \n",
       "1                 1.52  "
      ]
     },
     "execution_count": 75,
     "metadata": {},
     "output_type": "execute_result"
    }
   ],
   "source": [
    "playerLst=[ths[1].string, ths[2].string]\n",
    "goals09lst=[float(Goals90P1), float(Goals90P2)]\n",
    "xglst=[float(xGoals90P1), float(xGoals90P2)]\n",
    "shotlst=[float(shots90P1), float(shots90P2)]\n",
    "SOTlst=[float(shotsOT90P1), float(shotsOT90P2)]\n",
    "assislst=[float(assist90P1), float(assist90P2)]\n",
    "presslst=[float(pressures90P1), float(pressures90P2)]\n",
    "offlst=[float(off90P1), float(off90P2)]\n",
    "aerlst=[float(aerialswon90P1), float(aerialswon90P2)]\n",
    "dribsuclst=[float(dribblesucc90P1), float(dribblesucc90P2)]\n",
    "pressuclst=[float(presssucc90P1), float(presssucc90P2)]\n",
    "\n",
    "\n",
    "df.Player=playerLst\n",
    "df['Goals/90']=goals09lst\n",
    "df['xG/90']=xglst\n",
    "df['Shots/90']=shotlst\n",
    "df['SoT/90']=SOTlst\n",
    "df['Assists/90']=assislst\n",
    "df['Pressures/90']=presslst\n",
    "df['Offsides/90']=offlst\n",
    "df['Aerials won/90']=aerlst\n",
    "df['Dribbles Success/90']=dribsuclst\n",
    "df['Pressure Success/90']=pressuclst\n",
    "\n",
    "df.head()"
   ]
  },
  {
   "cell_type": "code",
   "execution_count": 76,
   "id": "1db1db1b",
   "metadata": {},
   "outputs": [],
   "source": [
    "#dribsuclst"
   ]
  },
  {
   "cell_type": "code",
   "execution_count": 77,
   "id": "dd06c683",
   "metadata": {},
   "outputs": [],
   "source": [
    "#df.columns"
   ]
  },
  {
   "cell_type": "code",
   "execution_count": 78,
   "id": "6881efdc",
   "metadata": {},
   "outputs": [],
   "source": [
    "params=df.columns[1:]\n",
    "#params"
   ]
  },
  {
   "cell_type": "code",
   "execution_count": 79,
   "id": "11b28c4a",
   "metadata": {},
   "outputs": [],
   "source": [
    "# parameter names of the statistics we want to show\n",
    "#params = [\"npxG\", \"Non-Penalty Goals\", \"xA\", \"Key Passes\", \"Through Balls\",\n",
    " #         \"Progressive Passes\", \"Shot-Creating Actions\", \"Goal-Creating Actions\",\n",
    "  #        \"Dribbles Completed\", \"Pressure Regains\", \"Touches In Box\"]\n",
    "\n",
    "# The lower and upper boundaries for the statistics\n",
    "#low =  [0.08, 0.0, 0.1, 1, 0.6,  4, 3, 0.3, 0.3, 2.0, 2]\n",
    "#high = [0.37, 0.6, 0.6, 4, 1.2, 10, 8, 1.3, 1.5, 5.5, 5]\n",
    "#low = df[df.Player=='L'][params].values[0]\n",
    "#high=df[df.Player=='H'][params].values[0]\n",
    "#low"
   ]
  },
  {
   "cell_type": "code",
   "execution_count": 80,
   "id": "e152be58",
   "metadata": {
    "scrolled": true
   },
   "outputs": [],
   "source": [
    "low=df[params].min().values.astype('float')\n",
    "low=low-low"
   ]
  },
  {
   "cell_type": "code",
   "execution_count": 81,
   "id": "bc4f734c",
   "metadata": {
    "scrolled": true
   },
   "outputs": [],
   "source": [
    "high=df[params].max().values.astype('float')\n",
    "high=high+0.5"
   ]
  },
  {
   "cell_type": "code",
   "execution_count": 82,
   "id": "d7e9cb2d",
   "metadata": {},
   "outputs": [],
   "source": [
    "#df[params].min()"
   ]
  },
  {
   "cell_type": "code",
   "execution_count": 83,
   "id": "bbd24837",
   "metadata": {},
   "outputs": [],
   "source": [
    "radar = Radar(params, low, high,\n",
    "              # whether to round any of the labels to integers instead of decimal places\n",
    "              round_int=[False]*len(low),\n",
    "              num_rings=4,  # the number of concentric circles (excluding center circle)\n",
    "              # if the ring_width is more than the center_circle_radius then\n",
    "              # the center circle radius will be wider than the width of the concentric circles\n",
    "              ring_width=1, center_circle_radius=1)"
   ]
  },
  {
   "cell_type": "code",
   "execution_count": 84,
   "id": "1fd4db27",
   "metadata": {},
   "outputs": [],
   "source": [
    "URL1 = ('https://github.com/googlefonts/SourceSerifProGFVersion/blob/main/'\n",
    "        'fonts/SourceSerifPro-Regular.ttf?raw=true')\n",
    "serif_regular = FontManager(URL1)\n",
    "URL2 = ('https://github.com/googlefonts/SourceSerifProGFVersion/blob/main/'\n",
    "        'fonts/SourceSerifPro-ExtraLight.ttf?raw=true')\n",
    "serif_extra_light = FontManager(URL2)\n",
    "URL3 = ('https://github.com/google/fonts/blob/main/ofl/rubikmonoone/'\n",
    "        'RubikMonoOne-Regular.ttf?raw=true')\n",
    "rubik_regular = FontManager(URL3)\n",
    "URL4 = 'https://github.com/googlefonts/roboto/blob/main/src/hinted/Roboto-Thin.ttf?raw=true'\n",
    "robotto_thin = FontManager(URL4)\n",
    "URL5 = 'https://github.com/googlefonts/roboto/blob/main/src/hinted/Roboto-Regular.ttf?raw=true'\n",
    "robotto_regular = FontManager(URL5)\n",
    "URL6 = 'https://github.com/googlefonts/roboto/blob/main/src/hinted/Roboto-Bold.ttf?raw=true'\n",
    "robotto_bold = FontManager(URL6)"
   ]
  },
  {
   "cell_type": "code",
   "execution_count": 85,
   "id": "73af89a1",
   "metadata": {},
   "outputs": [],
   "source": [
    "#bruno_values =  [0.25, 0.42, 0.42, 3.47, 1.04, 8.06, 5.62, 0.97, 0.56, 5.14, 3.54]\n",
    "#bruyne_values = [0.32, 0.00, 0.43, 3.50, 0.98, 7.72, 6.18, 0.98, 1.71, 4.88, 4.96]"
   ]
  },
  {
   "cell_type": "code",
   "execution_count": 86,
   "id": "1e6735e6",
   "metadata": {
    "scrolled": true
   },
   "outputs": [],
   "source": [
    "#df[df.Player==player1][params]"
   ]
  },
  {
   "cell_type": "code",
   "execution_count": 87,
   "id": "8834513a",
   "metadata": {
    "scrolled": false
   },
   "outputs": [],
   "source": [
    "p1_values=df[df.Player==player1][params].values[0]\n",
    "#p1_values"
   ]
  },
  {
   "cell_type": "code",
   "execution_count": 88,
   "id": "f19ef3d4",
   "metadata": {},
   "outputs": [],
   "source": [
    "p2_values=df[df.Player==player2][params].values[0]\n",
    "#p2_values"
   ]
  },
  {
   "cell_type": "code",
   "execution_count": 89,
   "id": "3c9e1f6c",
   "metadata": {},
   "outputs": [],
   "source": [
    "#type(p1_values[0])"
   ]
  },
  {
   "cell_type": "code",
   "execution_count": 90,
   "id": "2ee18c88",
   "metadata": {},
   "outputs": [],
   "source": [
    "def radar_mosaic(radar_height=0.915, title_height=0.06, figheight=14):\n",
    "    \"\"\" Create a Radar chart flanked by a title and endnote axes.\n",
    "\n",
    "    Parameters\n",
    "    ----------\n",
    "    radar_height: float, default 0.915\n",
    "        The height of the radar axes in fractions of the figure height (default 91.5%).\n",
    "    title_height: float, default 0.06\n",
    "        The height of the title axes in fractions of the figure height (default 6%).\n",
    "    figheight: float, default 14\n",
    "        The figure height in inches.\n",
    "\n",
    "    Returns\n",
    "    -------\n",
    "    fig : matplotlib.figure.Figure\n",
    "    axs : dict[label, Axes]\n",
    "    \"\"\"\n",
    "    if title_height + radar_height > 1:\n",
    "        error_msg = 'Reduce one of the radar_height or title_height so the total is ≤ 1.'\n",
    "        raise ValueError(error_msg)\n",
    "    endnote_height = 1 - title_height - radar_height\n",
    "    figwidth = figheight * radar_height\n",
    "    figure, axes = plt.subplot_mosaic([['title'], ['radar'], ['endnote']],\n",
    "                                      gridspec_kw={'height_ratios': [title_height, radar_height,\n",
    "                                                                     endnote_height],\n",
    "                                                   # the grid takes up the whole of the figure 0-1\n",
    "                                                   'bottom': 0, 'left': 0, 'top': 1,\n",
    "                                                   'right': 1, 'hspace': 0},\n",
    "                                      figsize=(figwidth, figheight))\n",
    "    axes['title'].axis('off')\n",
    "    axes['endnote'].axis('off')\n",
    "    return figure, axes"
   ]
  },
  {
   "cell_type": "code",
   "execution_count": 91,
   "id": "012eabac",
   "metadata": {},
   "outputs": [
    {
     "data": {
      "image/png": "[encoded data removed]",
      "text/plain": [
       "<Figure size 922.32x1008 with 3 Axes>"
      ]
     },
     "metadata": {
      "needs_background": "light"
     },
     "output_type": "display_data"
    }
   ],
   "source": [
    "# creating the figure using the function defined above:\n",
    "fig, axs = radar_mosaic(radar_height=0.915, title_height=0.06, figheight=14)\n",
    "\n",
    "# plot radar\n",
    "radar.setup_axis(ax=axs['radar'])  # format axis as a radar\n",
    "rings_inner = radar.draw_circles(ax=axs['radar'], facecolor='#ffb2b2', edgecolor='#fc5f5f')\n",
    "radar_output = radar.draw_radar_compare(p1_values, p2_values, ax=axs['radar'],\n",
    "                                        kwargs_radar={'facecolor': '#00f2c1', 'alpha': 0.6},\n",
    "                                        kwargs_compare={'facecolor': '#d80499', 'alpha': 0.6})\n",
    "radar_poly, radar_poly2, vertices1, vertices2 = radar_output\n",
    "range_labels = radar.draw_range_labels(ax=axs['radar'], fontsize=15,\n",
    "                                       fontproperties=robotto_thin.prop)\n",
    "param_labels = radar.draw_param_labels(ax=axs['radar'], fontsize=25,\n",
    "                                       fontproperties=robotto_regular.prop)\n",
    "axs['radar'].scatter(vertices1[:, 0], vertices1[:, 1],\n",
    "                     c='#00f2c1', edgecolors='#6d6c6d', marker='o', s=150, zorder=2)\n",
    "axs['radar'].scatter(vertices2[:, 0], vertices2[:, 1],\n",
    "                     c='#d80499', edgecolors='#6d6c6d', marker='o', s=150, zorder=2)\n",
    "\n",
    "# adding the endnote and title text (these axes range from 0-1, i.e. 0, 0 is the bottom left)\n",
    "# Note we are slightly offsetting the text from the edges by 0.01 (1%, e.g. 0.99)\n",
    "endnote_text = axs['endnote'].text(0.99, 0.5, '@EnriqueALopezM - Inspired By: StatsBomb / Rami Moghadam', fontsize=15,\n",
    "                                   fontproperties=robotto_thin.prop, ha='right', va='center')\n",
    "title1_text = axs['title'].text(0.01, 0.65, player1, fontsize=25, color='#01c49d',\n",
    "                                fontproperties=robotto_bold.prop, ha='left', va='center')\n",
    "title2_text = axs['title'].text(0.01, 0.25, team1, fontsize=20,\n",
    "                                fontproperties=robotto_regular.prop,\n",
    "                                ha='left', va='center', color='#01c49d')\n",
    "title3_text = axs['title'].text(0.99, 0.65, player2, fontsize=25,\n",
    "                                fontproperties=robotto_bold.prop,\n",
    "                                ha='right', va='center', color='#d80499')\n",
    "title4_text = axs['title'].text(0.99, 0.25, team2, fontsize=20,\n",
    "                                fontproperties=robotto_regular.prop,\n",
    "                                ha='right', va='center', color='#d80499')\n",
    "plt.savefig(f'{player1}{player2}.jpg',dpi=300)"
   ]
  },
  {
   "cell_type": "code",
   "execution_count": null,
   "id": "2badea8f",
   "metadata": {},
   "outputs": [],
   "source": []
  }
 ],
 "metadata": {
  "kernelspec": {
   "display_name": "Python 3 (ipykernel)",
   "language": "python",
   "name": "python3"
  },
  "language_info": {
   "codemirror_mode": {
    "name": "ipython",
    "version": 3
   },
   "file_extension": ".py",
   "mimetype": "text/x-python",
   "name": "python",
   "nbconvert_exporter": "python",
   "pygments_lexer": "ipython3",
   "version": "3.9.12"
  }
 },
 "nbformat": 4,
 "nbformat_minor": 5
}
